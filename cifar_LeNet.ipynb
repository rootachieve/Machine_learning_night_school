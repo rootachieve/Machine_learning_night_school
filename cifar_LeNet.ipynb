{
  "nbformat": 4,
  "nbformat_minor": 0,
  "metadata": {
    "colab": {
      "name": "Untitled6.ipynb",
      "provenance": [],
      "authorship_tag": "ABX9TyPttxKOIOeJGNiO7DQti0fz"
    },
    "kernelspec": {
      "name": "python3",
      "display_name": "Python 3"
    },
    "accelerator": "GPU"
  },
  "cells": [
    {
      "cell_type": "code",
      "metadata": {
        "id": "0VkOuOgBBcpj"
      },
      "source": [
        "import tensorflow as tf\r\n",
        "import pandas as pd"
      ],
      "execution_count": 1,
      "outputs": []
    },
    {
      "cell_type": "code",
      "metadata": {
        "colab": {
          "base_uri": "https://localhost:8080/"
        },
        "id": "G6B-5qhnBi0X",
        "outputId": "e51d9963-afe0-4d16-a7b1-61e2fbee1665"
      },
      "source": [
        "(독립,종속),_=tf.keras.datasets.cifar10.load_data()\r\n",
        "print(독립.shape,종속.shape)\r\n",
        "\r\n",
        "종속 = pd.get_dummies(종속.reshape(50000))\r\n",
        "print(독립.shape,종속.shape)"
      ],
      "execution_count": 3,
      "outputs": [
        {
          "output_type": "stream",
          "text": [
            "(50000, 32, 32, 3) (50000, 1)\n",
            "(50000, 32, 32, 3) (50000, 10)\n"
          ],
          "name": "stdout"
        }
      ]
    },
    {
      "cell_type": "code",
      "metadata": {
        "id": "GNadVDqYG-RX"
      },
      "source": [
        "x =tf.keras.layers.Input(shape=[32,32,3])\r\n",
        "\r\n",
        "h = tf.keras.layers.Conv2D(6,kernel_size=5,activation='swish')(x)\r\n",
        "h = tf.keras.layers.MaxPool2D()(h)\r\n",
        "\r\n",
        "h = tf.keras.layers.Conv2D(16,kernel_size=5,activation='swish')(h)\r\n",
        "h = tf.keras.layers.MaxPool2D()(h)\r\n",
        "\r\n",
        "h = tf.keras.layers.Flatten()(h)\r\n",
        "h=tf.keras.layers.Dense(120,activation='swish')(h)\r\n",
        "h=tf.keras.layers.Dense(84,activation='swish')(h)\r\n",
        "y=tf.keras.layers.Dense(10,activation='softmax')(h)\r\n",
        "\r\n",
        "model=tf.keras.models.Model(x,y)\r\n",
        "model.compile(loss='categorical_crossentropy',metrics='accuracy')"
      ],
      "execution_count": 4,
      "outputs": []
    },
    {
      "cell_type": "code",
      "metadata": {
        "colab": {
          "base_uri": "https://localhost:8080/"
        },
        "id": "Wnj4TT1OH5YA",
        "outputId": "0f4f1245-16ac-4a0f-b8a5-54accb72895e"
      },
      "source": [
        "model.fit(독립,종속,epochs=10)"
      ],
      "execution_count": 6,
      "outputs": [
        {
          "output_type": "stream",
          "text": [
            "Epoch 1/10\n",
            "1563/1563 [==============================] - 6s 4ms/step - loss: 1.3046 - accuracy: 0.5563\n",
            "Epoch 2/10\n",
            "1563/1563 [==============================] - 6s 4ms/step - loss: 1.2953 - accuracy: 0.5577\n",
            "Epoch 3/10\n",
            "1563/1563 [==============================] - 6s 4ms/step - loss: 1.3079 - accuracy: 0.5593\n",
            "Epoch 4/10\n",
            "1563/1563 [==============================] - 6s 4ms/step - loss: 1.2983 - accuracy: 0.5614\n",
            "Epoch 5/10\n",
            "1563/1563 [==============================] - 6s 4ms/step - loss: 1.2940 - accuracy: 0.5635\n",
            "Epoch 6/10\n",
            "1563/1563 [==============================] - 6s 4ms/step - loss: 1.3022 - accuracy: 0.5616\n",
            "Epoch 7/10\n",
            "1563/1563 [==============================] - 6s 4ms/step - loss: 1.3060 - accuracy: 0.5610\n",
            "Epoch 8/10\n",
            "1563/1563 [==============================] - 6s 4ms/step - loss: 1.3238 - accuracy: 0.5613\n",
            "Epoch 9/10\n",
            "1563/1563 [==============================] - 6s 4ms/step - loss: 1.3133 - accuracy: 0.5621\n",
            "Epoch 10/10\n",
            "1563/1563 [==============================] - 6s 4ms/step - loss: 1.3131 - accuracy: 0.5622\n"
          ],
          "name": "stdout"
        },
        {
          "output_type": "execute_result",
          "data": {
            "text/plain": [
              "<tensorflow.python.keras.callbacks.History at 0x7f97685561d0>"
            ]
          },
          "metadata": {
            "tags": []
          },
          "execution_count": 6
        }
      ]
    },
    {
      "cell_type": "code",
      "metadata": {
        "colab": {
          "base_uri": "https://localhost:8080/"
        },
        "id": "QM3GS9mgOnRj",
        "outputId": "13ec0f35-d3d9-48c6-b346-ab766ac5c5ee"
      },
      "source": [
        "model.summary()"
      ],
      "execution_count": 7,
      "outputs": [
        {
          "output_type": "stream",
          "text": [
            "Model: \"model\"\n",
            "_________________________________________________________________\n",
            "Layer (type)                 Output Shape              Param #   \n",
            "=================================================================\n",
            "input_1 (InputLayer)         [(None, 32, 32, 3)]       0         \n",
            "_________________________________________________________________\n",
            "conv2d (Conv2D)              (None, 28, 28, 6)         456       \n",
            "_________________________________________________________________\n",
            "max_pooling2d (MaxPooling2D) (None, 14, 14, 6)         0         \n",
            "_________________________________________________________________\n",
            "conv2d_1 (Conv2D)            (None, 10, 10, 16)        2416      \n",
            "_________________________________________________________________\n",
            "max_pooling2d_1 (MaxPooling2 (None, 5, 5, 16)          0         \n",
            "_________________________________________________________________\n",
            "flatten (Flatten)            (None, 400)               0         \n",
            "_________________________________________________________________\n",
            "dense (Dense)                (None, 120)               48120     \n",
            "_________________________________________________________________\n",
            "dense_1 (Dense)              (None, 84)                10164     \n",
            "_________________________________________________________________\n",
            "dense_2 (Dense)              (None, 10)                850       \n",
            "=================================================================\n",
            "Total params: 62,006\n",
            "Trainable params: 62,006\n",
            "Non-trainable params: 0\n",
            "_________________________________________________________________\n"
          ],
          "name": "stdout"
        }
      ]
    }
  ]
}