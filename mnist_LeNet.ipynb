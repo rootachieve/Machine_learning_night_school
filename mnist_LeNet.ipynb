{
  "nbformat": 4,
  "nbformat_minor": 0,
  "metadata": {
    "colab": {
      "name": "Untitled5.ipynb",
      "provenance": [],
      "authorship_tag": "ABX9TyM6UaOWeMS67eAzS7HkBZ3s"
    },
    "kernelspec": {
      "name": "python3",
      "display_name": "Python 3"
    },
    "accelerator": "GPU"
  },
  "cells": [
    {
      "cell_type": "code",
      "metadata": {
        "id": "0VkOuOgBBcpj"
      },
      "source": [
        "import tensorflow as tf\r\n",
        "import pandas as pd"
      ],
      "execution_count": 3,
      "outputs": []
    },
    {
      "cell_type": "code",
      "metadata": {
        "colab": {
          "base_uri": "https://localhost:8080/"
        },
        "id": "G6B-5qhnBi0X",
        "outputId": "7cccb795-4837-4d1a-b9bb-078da9e19608"
      },
      "source": [
        "(독립,종속),_=tf.keras.datasets.mnist.load_data()\r\n",
        "print(독립.shape,종속.shape)\r\n",
        "\r\n",
        "독립=독립.reshape(60000,28,28,1)\r\n",
        "종속 = pd.get_dummies(종속)\r\n",
        "print(독립.shape,종속.shape)"
      ],
      "execution_count": 8,
      "outputs": [
        {
          "output_type": "stream",
          "text": [
            "(60000, 28, 28) (60000,)\n",
            "(60000, 28, 28, 1) (60000, 10)\n"
          ],
          "name": "stdout"
        }
      ]
    },
    {
      "cell_type": "code",
      "metadata": {
        "id": "GNadVDqYG-RX"
      },
      "source": [
        "x =tf.keras.layers.Input(shape=[28,28,1])\r\n",
        "\r\n",
        "h = tf.keras.layers.Conv2D(6,kernel_size=5,padding='same',activation='swish')(x)\r\n",
        "h = tf.keras.layers.MaxPool2D()(h)\r\n",
        "\r\n",
        "h = tf.keras.layers.Conv2D(16,kernel_size=5,activation='swish')(h)\r\n",
        "h = tf.keras.layers.MaxPool2D()(h)\r\n",
        "\r\n",
        "h = tf.keras.layers.Flatten()(h)\r\n",
        "h=tf.keras.layers.Dense(120,activation='swish')(h)\r\n",
        "h=tf.keras.layers.Dense(84,activation='swish')(h)\r\n",
        "y=tf.keras.layers.Dense(10,activation='softmax')(h)\r\n",
        "\r\n",
        "model=tf.keras.models.Model(x,y)\r\n",
        "model.compile(loss='categorical_crossentropy',metrics='accuracy')"
      ],
      "execution_count": 5,
      "outputs": []
    },
    {
      "cell_type": "code",
      "metadata": {
        "colab": {
          "base_uri": "https://localhost:8080/"
        },
        "id": "Wnj4TT1OH5YA",
        "outputId": "804b90ec-9893-4574-f16b-1a424de704c1"
      },
      "source": [
        "model.fit(독립,종속,epochs=10)"
      ],
      "execution_count": 6,
      "outputs": [
        {
          "output_type": "stream",
          "text": [
            "Epoch 1/10\n",
            "1875/1875 [==============================] - 17s 5ms/step - loss: 0.7891 - accuracy: 0.8713\n",
            "Epoch 2/10\n",
            "1875/1875 [==============================] - 10s 6ms/step - loss: 0.0833 - accuracy: 0.9776\n",
            "Epoch 3/10\n",
            "1875/1875 [==============================] - 10s 5ms/step - loss: 0.0686 - accuracy: 0.9826\n",
            "Epoch 4/10\n",
            "1875/1875 [==============================] - 10s 5ms/step - loss: 0.0548 - accuracy: 0.9856\n",
            "Epoch 5/10\n",
            "1875/1875 [==============================] - 10s 6ms/step - loss: 0.0560 - accuracy: 0.9860\n",
            "Epoch 6/10\n",
            "1875/1875 [==============================] - 10s 5ms/step - loss: 0.0576 - accuracy: 0.9874\n",
            "Epoch 7/10\n",
            "1875/1875 [==============================] - 10s 5ms/step - loss: 0.0533 - accuracy: 0.9880\n",
            "Epoch 8/10\n",
            "1875/1875 [==============================] - 10s 5ms/step - loss: 0.0544 - accuracy: 0.9879\n",
            "Epoch 9/10\n",
            "1875/1875 [==============================] - 10s 5ms/step - loss: 0.0552 - accuracy: 0.9887\n",
            "Epoch 10/10\n",
            "1875/1875 [==============================] - 11s 6ms/step - loss: 0.0525 - accuracy: 0.9897\n"
          ],
          "name": "stdout"
        },
        {
          "output_type": "execute_result",
          "data": {
            "text/plain": [
              "<tensorflow.python.keras.callbacks.History at 0x7f88004bd550>"
            ]
          },
          "metadata": {
            "tags": []
          },
          "execution_count": 6
        }
      ]
    },
    {
      "cell_type": "code",
      "metadata": {
        "colab": {
          "base_uri": "https://localhost:8080/"
        },
        "id": "QM3GS9mgOnRj",
        "outputId": "74a52b87-48f4-401d-9c07-6c3e26ab6f77"
      },
      "source": [
        "model.summary()"
      ],
      "execution_count": 7,
      "outputs": [
        {
          "output_type": "stream",
          "text": [
            "Model: \"model\"\n",
            "_________________________________________________________________\n",
            "Layer (type)                 Output Shape              Param #   \n",
            "=================================================================\n",
            "input_1 (InputLayer)         [(None, 28, 28, 1)]       0         \n",
            "_________________________________________________________________\n",
            "conv2d (Conv2D)              (None, 28, 28, 6)         156       \n",
            "_________________________________________________________________\n",
            "max_pooling2d (MaxPooling2D) (None, 14, 14, 6)         0         \n",
            "_________________________________________________________________\n",
            "conv2d_1 (Conv2D)            (None, 10, 10, 16)        2416      \n",
            "_________________________________________________________________\n",
            "max_pooling2d_1 (MaxPooling2 (None, 5, 5, 16)          0         \n",
            "_________________________________________________________________\n",
            "flatten (Flatten)            (None, 400)               0         \n",
            "_________________________________________________________________\n",
            "dense (Dense)                (None, 120)               48120     \n",
            "_________________________________________________________________\n",
            "dense_1 (Dense)              (None, 84)                10164     \n",
            "_________________________________________________________________\n",
            "dense_2 (Dense)              (None, 10)                850       \n",
            "=================================================================\n",
            "Total params: 61,706\n",
            "Trainable params: 61,706\n",
            "Non-trainable params: 0\n",
            "_________________________________________________________________\n"
          ],
          "name": "stdout"
        }
      ]
    }
  ]
}