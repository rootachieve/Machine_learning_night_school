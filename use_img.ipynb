{
  "nbformat": 4,
  "nbformat_minor": 0,
  "metadata": {
    "colab": {
      "name": "Untitled6.ipynb",
      "provenance": [],
      "toc_visible": true,
      "authorship_tag": "ABX9TyNXmBXg3+Z1ngYDCU4J0NtV"
    },
    "kernelspec": {
      "name": "python3",
      "display_name": "Python 3"
    },
    "accelerator": "GPU"
  },
  "cells": [
    {
      "cell_type": "code",
      "metadata": {
        "id": "F3ZOYjkRRj9r"
      },
      "source": [
        "!wget -q http://raw.githubusercontent.com/blackdew/tensorflow1/master/csv/notMNIST_small.tar.gz\r\n",
        "!tar -xzf notMNIST_small.tar.gz"
      ],
      "execution_count": null,
      "outputs": []
    },
    {
      "cell_type": "code",
      "metadata": {
        "colab": {
          "base_uri": "https://localhost:8080/"
        },
        "id": "PgELZXy6SDwL",
        "outputId": "d4e7b962-4a8c-4fe6-98c1-9dd62c22cd6a"
      },
      "source": [
        "import glob\r\n",
        "import numpy as np\r\n",
        "import pandas as pd\r\n",
        "import matplotlib.pyplot as plt\r\n",
        "import tensorflow as tf\r\n",
        "\r\n",
        "paths = glob.glob('./notMNIST_small/*/*.png')\r\n",
        "paths = np.random.permutation(paths)\r\n",
        "독립 = np.array([plt.imread(paths[i]) for i in range(len(paths))])\r\n",
        "종속 = np.array([paths[i].split('/')[2] for i in range(len(paths))])\r\n",
        "print(독립.shape, 종속.shape)"
      ],
      "execution_count": 12,
      "outputs": [
        {
          "output_type": "stream",
          "text": [
            "(18724, 28, 28) (18724,)\n"
          ],
          "name": "stdout"
        }
      ]
    },
    {
      "cell_type": "code",
      "metadata": {
        "colab": {
          "base_uri": "https://localhost:8080/"
        },
        "id": "657Oh7zNS-6t",
        "outputId": "16ecb60c-8922-4e8b-c3e9-dadc7d42ff8c"
      },
      "source": [
        "독립=독립.reshape(18724,28,28,1)\r\n",
        "종속=pd.get_dummies(종속)\r\n",
        "print(독립.shape, 종속.shape)"
      ],
      "execution_count": 13,
      "outputs": [
        {
          "output_type": "stream",
          "text": [
            "(18724, 28, 28, 1) (18724, 10)\n"
          ],
          "name": "stdout"
        }
      ]
    },
    {
      "cell_type": "code",
      "metadata": {
        "id": "GNadVDqYG-RX"
      },
      "source": [
        "x =tf.keras.layers.Input(shape=[28,28,1])\r\n",
        "\r\n",
        "h = tf.keras.layers.Conv2D(6,kernel_size=5,padding='same',activation='swish')(x)\r\n",
        "h = tf.keras.layers.MaxPool2D()(h)\r\n",
        "\r\n",
        "h = tf.keras.layers.Conv2D(16,kernel_size=5,activation='swish')(h)\r\n",
        "h = tf.keras.layers.MaxPool2D()(h)\r\n",
        "\r\n",
        "h = tf.keras.layers.Flatten()(h)\r\n",
        "h=tf.keras.layers.Dense(120,activation='swish')(h)\r\n",
        "h=tf.keras.layers.Dense(84,activation='swish')(h)\r\n",
        "y=tf.keras.layers.Dense(10,activation='softmax')(h)\r\n",
        "\r\n",
        "model=tf.keras.models.Model(x,y)\r\n",
        "model.compile(loss='categorical_crossentropy',metrics='accuracy')"
      ],
      "execution_count": 14,
      "outputs": []
    },
    {
      "cell_type": "code",
      "metadata": {
        "colab": {
          "base_uri": "https://localhost:8080/"
        },
        "id": "Wnj4TT1OH5YA",
        "outputId": "6de040c9-98e1-4c2a-f82d-a5d0cf6f4097"
      },
      "source": [
        "model.fit(독립,종속,epochs=10)"
      ],
      "execution_count": 15,
      "outputs": [
        {
          "output_type": "stream",
          "text": [
            "Epoch 1/10\n",
            "586/586 [==============================] - 3s 4ms/step - loss: 0.7628 - accuracy: 0.7757\n",
            "Epoch 2/10\n",
            "586/586 [==============================] - 2s 4ms/step - loss: 0.2803 - accuracy: 0.9164\n",
            "Epoch 3/10\n",
            "586/586 [==============================] - 2s 4ms/step - loss: 0.2101 - accuracy: 0.9366\n",
            "Epoch 4/10\n",
            "586/586 [==============================] - 2s 4ms/step - loss: 0.1814 - accuracy: 0.9441\n",
            "Epoch 5/10\n",
            "586/586 [==============================] - 2s 4ms/step - loss: 0.1506 - accuracy: 0.9522\n",
            "Epoch 6/10\n",
            "586/586 [==============================] - 2s 4ms/step - loss: 0.1297 - accuracy: 0.9598\n",
            "Epoch 7/10\n",
            "586/586 [==============================] - 2s 4ms/step - loss: 0.0991 - accuracy: 0.9688\n",
            "Epoch 8/10\n",
            "586/586 [==============================] - 2s 4ms/step - loss: 0.0858 - accuracy: 0.9733\n",
            "Epoch 9/10\n",
            "586/586 [==============================] - 2s 4ms/step - loss: 0.0659 - accuracy: 0.9806\n",
            "Epoch 10/10\n",
            "586/586 [==============================] - 2s 4ms/step - loss: 0.0590 - accuracy: 0.9802\n"
          ],
          "name": "stdout"
        },
        {
          "output_type": "execute_result",
          "data": {
            "text/plain": [
              "<tensorflow.python.keras.callbacks.History at 0x7f976577f320>"
            ]
          },
          "metadata": {
            "tags": []
          },
          "execution_count": 15
        }
      ]
    },
    {
      "cell_type": "code",
      "metadata": {
        "colab": {
          "base_uri": "https://localhost:8080/"
        },
        "id": "QM3GS9mgOnRj",
        "outputId": "db6aecfe-5f3f-453c-fa4b-c68ccd65fe98"
      },
      "source": [
        "model.summary()"
      ],
      "execution_count": 17,
      "outputs": [
        {
          "output_type": "stream",
          "text": [
            "Model: \"model_1\"\n",
            "_________________________________________________________________\n",
            "Layer (type)                 Output Shape              Param #   \n",
            "=================================================================\n",
            "input_2 (InputLayer)         [(None, 28, 28, 1)]       0         \n",
            "_________________________________________________________________\n",
            "conv2d_2 (Conv2D)            (None, 28, 28, 6)         156       \n",
            "_________________________________________________________________\n",
            "max_pooling2d_2 (MaxPooling2 (None, 14, 14, 6)         0         \n",
            "_________________________________________________________________\n",
            "conv2d_3 (Conv2D)            (None, 10, 10, 16)        2416      \n",
            "_________________________________________________________________\n",
            "max_pooling2d_3 (MaxPooling2 (None, 5, 5, 16)          0         \n",
            "_________________________________________________________________\n",
            "flatten_1 (Flatten)          (None, 400)               0         \n",
            "_________________________________________________________________\n",
            "dense_3 (Dense)              (None, 120)               48120     \n",
            "_________________________________________________________________\n",
            "dense_4 (Dense)              (None, 84)                10164     \n",
            "_________________________________________________________________\n",
            "dense_5 (Dense)              (None, 10)                850       \n",
            "=================================================================\n",
            "Total params: 61,706\n",
            "Trainable params: 61,706\n",
            "Non-trainable params: 0\n",
            "_________________________________________________________________\n"
          ],
          "name": "stdout"
        }
      ]
    }
  ]
}