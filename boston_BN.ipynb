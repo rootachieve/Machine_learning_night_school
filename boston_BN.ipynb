{
  "nbformat": 4,
  "nbformat_minor": 0,
  "metadata": {
    "colab": {
      "name": "Untitled0.ipynb의 사본의 사본",
      "provenance": []
    },
    "kernelspec": {
      "display_name": "Python 3",
      "name": "python3"
    }
  },
  "cells": [
    {
      "cell_type": "markdown",
      "metadata": {
        "id": "Lcc_X0pJEs1i"
      },
      "source": [
        ""
      ]
    },
    {
      "cell_type": "code",
      "metadata": {
        "id": "Ew_-m4qBmnz0"
      },
      "source": [
        "import pandas as pd\r\n",
        "import tensorflow as tf"
      ],
      "execution_count": 1,
      "outputs": []
    },
    {
      "cell_type": "code",
      "metadata": {
        "id": "fnDnlniIm0MS"
      },
      "source": [
        "파일경로 = 'https://raw.githubusercontent.com/blackdew/tensorflow1/master/csv/boston.csv'\r\n",
        "데이터 =pd.read_csv(파일경로)"
      ],
      "execution_count": 2,
      "outputs": []
    },
    {
      "cell_type": "code",
      "metadata": {
        "colab": {
          "base_uri": "https://localhost:8080/"
        },
        "id": "bRCwpU4xzzcd",
        "outputId": "f544d544-474f-4ab5-f284-044db688a361"
      },
      "source": [
        "독립=데이터[['crim', 'zn', 'indus', 'chas', 'nox', 'rm', 'age', 'dis', 'rad', 'tax',\r\n",
        "       'ptratio', 'b', 'lstat']]\r\n",
        "종속=데이터[['medv']]\r\n",
        "print(독립.shape,종속.shape)"
      ],
      "execution_count": 3,
      "outputs": [
        {
          "output_type": "stream",
          "text": [
            "(506, 13) (506, 1)\n"
          ],
          "name": "stdout"
        }
      ]
    },
    {
      "cell_type": "code",
      "metadata": {
        "id": "au7ckoIpAD5m"
      },
      "source": [
        "x=tf.keras.layers.Input(shape=[13])\r\n",
        "h=tf.keras.layers.Dense(8)(x)\r\n",
        "h=tf.keras.layers.BatchNormalization()(h)\r\n",
        "h=tf.keras.layers.Activation('swish')(h)\r\n",
        "h=tf.keras.layers.Dense(8)(x)\r\n",
        "h=tf.keras.layers.BatchNormalization()(h)\r\n",
        "h=tf.keras.layers.Activation('swish')(h)\r\n",
        "h=tf.keras.layers.Dense(8)(x)\r\n",
        "h=tf.keras.layers.BatchNormalization()(h)\r\n",
        "h=tf.keras.layers.Activation('swish')(h)\r\n",
        "y=tf.keras.layers.Dense(1)(h)\r\n",
        "model=tf.keras.models.Model(x,y)\r\n",
        "model.compile(loss='mse')"
      ],
      "execution_count": 4,
      "outputs": []
    },
    {
      "cell_type": "code",
      "metadata": {
        "id": "UWj4UaIs04AG",
        "colab": {
          "base_uri": "https://localhost:8080/"
        },
        "outputId": "a63c428f-2a03-4114-cda8-e84bc42888b1"
      },
      "source": [
        "model.fit(독립,종속,epochs=1000,verbose=0)\r\n",
        "model.fit(독립,종속,epochs=10)"
      ],
      "execution_count": 7,
      "outputs": [
        {
          "output_type": "stream",
          "text": [
            "Epoch 1/10\n",
            "16/16 [==============================] - 0s 1ms/step - loss: 12.1932\n",
            "Epoch 2/10\n",
            "16/16 [==============================] - 0s 1ms/step - loss: 11.6477\n",
            "Epoch 3/10\n",
            "16/16 [==============================] - 0s 1ms/step - loss: 11.2083\n",
            "Epoch 4/10\n",
            "16/16 [==============================] - 0s 1ms/step - loss: 11.5038\n",
            "Epoch 5/10\n",
            "16/16 [==============================] - 0s 1ms/step - loss: 10.5710\n",
            "Epoch 6/10\n",
            "16/16 [==============================] - 0s 2ms/step - loss: 12.5497\n",
            "Epoch 7/10\n",
            "16/16 [==============================] - 0s 2ms/step - loss: 10.3988\n",
            "Epoch 8/10\n",
            "16/16 [==============================] - 0s 1ms/step - loss: 11.0013\n",
            "Epoch 9/10\n",
            "16/16 [==============================] - 0s 1ms/step - loss: 10.3885\n",
            "Epoch 10/10\n",
            "16/16 [==============================] - 0s 1ms/step - loss: 10.2844\n"
          ],
          "name": "stdout"
        },
        {
          "output_type": "execute_result",
          "data": {
            "text/plain": [
              "<tensorflow.python.keras.callbacks.History at 0x7feb0234f668>"
            ]
          },
          "metadata": {
            "tags": []
          },
          "execution_count": 7
        }
      ]
    },
    {
      "cell_type": "code",
      "metadata": {
        "colab": {
          "base_uri": "https://localhost:8080/"
        },
        "id": "5iCnklhkFLA9",
        "outputId": "323c5866-e9d6-470a-ddc2-6d4dd46ec4cf"
      },
      "source": [
        "model.summary()"
      ],
      "execution_count": 10,
      "outputs": [
        {
          "output_type": "stream",
          "text": [
            "Model: \"model\"\n",
            "_________________________________________________________________\n",
            "Layer (type)                 Output Shape              Param #   \n",
            "=================================================================\n",
            "input_1 (InputLayer)         [(None, 13)]              0         \n",
            "_________________________________________________________________\n",
            "dense_2 (Dense)              (None, 8)                 112       \n",
            "_________________________________________________________________\n",
            "batch_normalization_2 (Batch (None, 8)                 32        \n",
            "_________________________________________________________________\n",
            "activation_2 (Activation)    (None, 8)                 0         \n",
            "_________________________________________________________________\n",
            "dense_3 (Dense)              (None, 1)                 9         \n",
            "=================================================================\n",
            "Total params: 153\n",
            "Trainable params: 137\n",
            "Non-trainable params: 16\n",
            "_________________________________________________________________\n"
          ],
          "name": "stdout"
        }
      ]
    },
    {
      "cell_type": "code",
      "metadata": {
        "id": "0N6ljVTs1zpa",
        "colab": {
          "base_uri": "https://localhost:8080/"
        },
        "outputId": "45cc90f7-4c5e-40d6-e44e-9064cd2d78a8"
      },
      "source": [
        "model.predict(독립[0:5])"
      ],
      "execution_count": 8,
      "outputs": [
        {
          "output_type": "execute_result",
          "data": {
            "text/plain": [
              "array([[25.29913 ],\n",
              "       [22.9365  ],\n",
              "       [30.911694],\n",
              "       [29.56203 ],\n",
              "       [29.068726]], dtype=float32)"
            ]
          },
          "metadata": {
            "tags": []
          },
          "execution_count": 8
        }
      ]
    },
    {
      "cell_type": "code",
      "metadata": {
        "id": "Jy0YU6vz17hB",
        "colab": {
          "base_uri": "https://localhost:8080/",
          "height": 204
        },
        "outputId": "b4f5f652-8a79-4a1a-96ca-20e75d9671cf"
      },
      "source": [
        "종속[0:5]"
      ],
      "execution_count": 9,
      "outputs": [
        {
          "output_type": "execute_result",
          "data": {
            "text/html": [
              "<div>\n",
              "<style scoped>\n",
              "    .dataframe tbody tr th:only-of-type {\n",
              "        vertical-align: middle;\n",
              "    }\n",
              "\n",
              "    .dataframe tbody tr th {\n",
              "        vertical-align: top;\n",
              "    }\n",
              "\n",
              "    .dataframe thead th {\n",
              "        text-align: right;\n",
              "    }\n",
              "</style>\n",
              "<table border=\"1\" class=\"dataframe\">\n",
              "  <thead>\n",
              "    <tr style=\"text-align: right;\">\n",
              "      <th></th>\n",
              "      <th>medv</th>\n",
              "    </tr>\n",
              "  </thead>\n",
              "  <tbody>\n",
              "    <tr>\n",
              "      <th>0</th>\n",
              "      <td>24.0</td>\n",
              "    </tr>\n",
              "    <tr>\n",
              "      <th>1</th>\n",
              "      <td>21.6</td>\n",
              "    </tr>\n",
              "    <tr>\n",
              "      <th>2</th>\n",
              "      <td>34.7</td>\n",
              "    </tr>\n",
              "    <tr>\n",
              "      <th>3</th>\n",
              "      <td>33.4</td>\n",
              "    </tr>\n",
              "    <tr>\n",
              "      <th>4</th>\n",
              "      <td>36.2</td>\n",
              "    </tr>\n",
              "  </tbody>\n",
              "</table>\n",
              "</div>"
            ],
            "text/plain": [
              "   medv\n",
              "0  24.0\n",
              "1  21.6\n",
              "2  34.7\n",
              "3  33.4\n",
              "4  36.2"
            ]
          },
          "metadata": {
            "tags": []
          },
          "execution_count": 9
        }
      ]
    },
    {
      "cell_type": "code",
      "metadata": {
        "id": "owNYiSO82NPD"
      },
      "source": [
        "model.get_weights()"
      ],
      "execution_count": null,
      "outputs": []
    }
  ]
}