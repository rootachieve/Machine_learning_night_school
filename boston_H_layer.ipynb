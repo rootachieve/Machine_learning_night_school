{
  "nbformat": 4,
  "nbformat_minor": 0,
  "metadata": {
    "colab": {
      "name": "Untitled0.ipynb의 사본",
      "provenance": []
    },
    "kernelspec": {
      "display_name": "Python 3",
      "name": "python3"
    }
  },
  "cells": [
    {
      "cell_type": "markdown",
      "metadata": {
        "id": "Lcc_X0pJEs1i"
      },
      "source": [
        ""
      ]
    },
    {
      "cell_type": "code",
      "metadata": {
        "id": "Ew_-m4qBmnz0"
      },
      "source": [
        "import pandas as pd\r\n",
        "import tensorflow as tf"
      ],
      "execution_count": 1,
      "outputs": []
    },
    {
      "cell_type": "code",
      "metadata": {
        "id": "fnDnlniIm0MS"
      },
      "source": [
        "파일경로 = 'https://raw.githubusercontent.com/blackdew/tensorflow1/master/csv/boston.csv'\r\n",
        "데이터 =pd.read_csv(파일경로)"
      ],
      "execution_count": 2,
      "outputs": []
    },
    {
      "cell_type": "code",
      "metadata": {
        "colab": {
          "base_uri": "https://localhost:8080/"
        },
        "id": "bRCwpU4xzzcd",
        "outputId": "4852a58d-65b1-4ef0-c12c-48ecdaa76b88"
      },
      "source": [
        "독립=데이터[['crim', 'zn', 'indus', 'chas', 'nox', 'rm', 'age', 'dis', 'rad', 'tax',\r\n",
        "       'ptratio', 'b', 'lstat']]\r\n",
        "종속=데이터[['medv']]\r\n",
        "print(독립.shape,종속.shape)"
      ],
      "execution_count": 3,
      "outputs": [
        {
          "output_type": "stream",
          "text": [
            "(506, 13) (506, 1)\n"
          ],
          "name": "stdout"
        }
      ]
    },
    {
      "cell_type": "code",
      "metadata": {
        "id": "kLRKPWk20PjQ"
      },
      "source": [
        "x=tf.keras.layers.Input(shape=[13])\r\n",
        "h=tf.keras.layers.Dense(10,activation='swish')(x)\r\n",
        "y=tf.keras.layers.Dense(1)(h)\r\n",
        "model=tf.keras.models.Model(x,y)\r\n",
        "model.compile(loss='mse')"
      ],
      "execution_count": 4,
      "outputs": []
    },
    {
      "cell_type": "code",
      "metadata": {
        "id": "UWj4UaIs04AG",
        "colab": {
          "base_uri": "https://localhost:8080/"
        },
        "outputId": "f11d50aa-9323-488a-ea9a-f1c2a2d7ab1d"
      },
      "source": [
        "model.fit(독립,종속,epochs=1000,verbose=0)\r\n",
        "model.fit(독립,종속,epochs=10)"
      ],
      "execution_count": 7,
      "outputs": [
        {
          "output_type": "stream",
          "text": [
            "Epoch 1/10\n",
            "16/16 [==============================] - 0s 1ms/step - loss: 21.9374\n",
            "Epoch 2/10\n",
            "16/16 [==============================] - 0s 1ms/step - loss: 22.7096\n",
            "Epoch 3/10\n",
            "16/16 [==============================] - 0s 1ms/step - loss: 22.0098\n",
            "Epoch 4/10\n",
            "16/16 [==============================] - 0s 1ms/step - loss: 21.2911\n",
            "Epoch 5/10\n",
            "16/16 [==============================] - 0s 1ms/step - loss: 22.2630\n",
            "Epoch 6/10\n",
            "16/16 [==============================] - 0s 1ms/step - loss: 22.4376\n",
            "Epoch 7/10\n",
            "16/16 [==============================] - 0s 1ms/step - loss: 20.9864\n",
            "Epoch 8/10\n",
            "16/16 [==============================] - 0s 1ms/step - loss: 21.7573\n",
            "Epoch 9/10\n",
            "16/16 [==============================] - 0s 2ms/step - loss: 22.6346\n",
            "Epoch 10/10\n",
            "16/16 [==============================] - 0s 1ms/step - loss: 22.1140\n"
          ],
          "name": "stdout"
        },
        {
          "output_type": "execute_result",
          "data": {
            "text/plain": [
              "<tensorflow.python.keras.callbacks.History at 0x7fad8a91efd0>"
            ]
          },
          "metadata": {
            "tags": []
          },
          "execution_count": 7
        }
      ]
    },
    {
      "cell_type": "code",
      "metadata": {
        "colab": {
          "base_uri": "https://localhost:8080/"
        },
        "id": "5iCnklhkFLA9",
        "outputId": "81ec66f7-0340-44a0-9ddb-4d8a2cb0b860"
      },
      "source": [
        "model.summary()"
      ],
      "execution_count": 8,
      "outputs": [
        {
          "output_type": "stream",
          "text": [
            "Model: \"model\"\n",
            "_________________________________________________________________\n",
            "Layer (type)                 Output Shape              Param #   \n",
            "=================================================================\n",
            "input_1 (InputLayer)         [(None, 13)]              0         \n",
            "_________________________________________________________________\n",
            "dense (Dense)                (None, 10)                140       \n",
            "_________________________________________________________________\n",
            "dense_1 (Dense)              (None, 1)                 11        \n",
            "=================================================================\n",
            "Total params: 151\n",
            "Trainable params: 151\n",
            "Non-trainable params: 0\n",
            "_________________________________________________________________\n"
          ],
          "name": "stdout"
        }
      ]
    },
    {
      "cell_type": "code",
      "metadata": {
        "id": "0N6ljVTs1zpa",
        "colab": {
          "base_uri": "https://localhost:8080/"
        },
        "outputId": "7e4d1230-c194-4623-8cda-35ec0a60f3f7"
      },
      "source": [
        "model.predict(독립[0:5])"
      ],
      "execution_count": 9,
      "outputs": [
        {
          "output_type": "execute_result",
          "data": {
            "text/plain": [
              "array([[30.548218],\n",
              "       [24.894127],\n",
              "       [30.464241],\n",
              "       [31.198952],\n",
              "       [29.690659]], dtype=float32)"
            ]
          },
          "metadata": {
            "tags": []
          },
          "execution_count": 9
        }
      ]
    },
    {
      "cell_type": "code",
      "metadata": {
        "id": "Jy0YU6vz17hB",
        "colab": {
          "base_uri": "https://localhost:8080/",
          "height": 204
        },
        "outputId": "29bc542d-d4cd-4753-84eb-5e7d9e9b45f8"
      },
      "source": [
        "종속[0:5]"
      ],
      "execution_count": 10,
      "outputs": [
        {
          "output_type": "execute_result",
          "data": {
            "text/html": [
              "<div>\n",
              "<style scoped>\n",
              "    .dataframe tbody tr th:only-of-type {\n",
              "        vertical-align: middle;\n",
              "    }\n",
              "\n",
              "    .dataframe tbody tr th {\n",
              "        vertical-align: top;\n",
              "    }\n",
              "\n",
              "    .dataframe thead th {\n",
              "        text-align: right;\n",
              "    }\n",
              "</style>\n",
              "<table border=\"1\" class=\"dataframe\">\n",
              "  <thead>\n",
              "    <tr style=\"text-align: right;\">\n",
              "      <th></th>\n",
              "      <th>medv</th>\n",
              "    </tr>\n",
              "  </thead>\n",
              "  <tbody>\n",
              "    <tr>\n",
              "      <th>0</th>\n",
              "      <td>24.0</td>\n",
              "    </tr>\n",
              "    <tr>\n",
              "      <th>1</th>\n",
              "      <td>21.6</td>\n",
              "    </tr>\n",
              "    <tr>\n",
              "      <th>2</th>\n",
              "      <td>34.7</td>\n",
              "    </tr>\n",
              "    <tr>\n",
              "      <th>3</th>\n",
              "      <td>33.4</td>\n",
              "    </tr>\n",
              "    <tr>\n",
              "      <th>4</th>\n",
              "      <td>36.2</td>\n",
              "    </tr>\n",
              "  </tbody>\n",
              "</table>\n",
              "</div>"
            ],
            "text/plain": [
              "   medv\n",
              "0  24.0\n",
              "1  21.6\n",
              "2  34.7\n",
              "3  33.4\n",
              "4  36.2"
            ]
          },
          "metadata": {
            "tags": []
          },
          "execution_count": 10
        }
      ]
    },
    {
      "cell_type": "code",
      "metadata": {
        "id": "owNYiSO82NPD"
      },
      "source": [
        "model.get_weights()"
      ],
      "execution_count": null,
      "outputs": []
    }
  ]
}