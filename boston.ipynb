{
  "nbformat": 4,
  "nbformat_minor": 0,
  "metadata": {
    "colab": {
      "name": "Untitled0.ipynb",
      "provenance": []
    },
    "kernelspec": {
      "display_name": "Python 3",
      "name": "python3"
    }
  },
  "cells": [
    {
      "cell_type": "code",
      "metadata": {
        "id": "Ew_-m4qBmnz0"
      },
      "source": [
        "import pandas as pd\r\n",
        "import tensorflow as tf"
      ],
      "execution_count": 1,
      "outputs": []
    },
    {
      "cell_type": "code",
      "metadata": {
        "id": "fnDnlniIm0MS"
      },
      "source": [
        "파일경로 = 'https://raw.githubusercontent.com/blackdew/tensorflow1/master/csv/boston.csv'\r\n",
        "데이터 =pd.read_csv(파일경로)"
      ],
      "execution_count": null,
      "outputs": []
    },
    {
      "cell_type": "code",
      "metadata": {
        "colab": {
          "base_uri": "https://localhost:8080/"
        },
        "id": "bRCwpU4xzzcd",
        "outputId": "5e210513-8903-463b-a896-1d433f3f1e69"
      },
      "source": [
        "독립=데이터[['crim', 'zn', 'indus', 'chas', 'nox', 'rm', 'age', 'dis', 'rad', 'tax',\r\n",
        "       'ptratio', 'b', 'lstat']]\r\n",
        "종속=데이터[['medv']]\r\n",
        "print(독립.shape,종속.shape)"
      ],
      "execution_count": 9,
      "outputs": [
        {
          "output_type": "stream",
          "text": [
            "(506, 13) (506, 1)\n"
          ],
          "name": "stdout"
        }
      ]
    },
    {
      "cell_type": "code",
      "metadata": {
        "id": "kLRKPWk20PjQ"
      },
      "source": [
        "x=tf.keras.layers.Input(shape=[13])\r\n",
        "y=tf.keras.layers.Dense(1)(x)\r\n",
        "model=tf.keras.models.Model(x,y)\r\n",
        "model.compile(loss='mse')"
      ],
      "execution_count": 6,
      "outputs": []
    },
    {
      "cell_type": "code",
      "metadata": {
        "colab": {
          "base_uri": "https://localhost:8080/"
        },
        "id": "UWj4UaIs04AG",
        "outputId": "2691fe4e-433d-4e47-ca20-d82f5a20f4cd"
      },
      "source": [
        "model.fit(독립,종속,epochs=10)"
      ],
      "execution_count": 19,
      "outputs": [
        {
          "output_type": "stream",
          "text": [
            "Epoch 1/10\n",
            "16/16 [==============================] - 0s 980us/step - loss: 23.4922\n",
            "Epoch 2/10\n",
            "16/16 [==============================] - 0s 1ms/step - loss: 23.3924\n",
            "Epoch 3/10\n",
            "16/16 [==============================] - 0s 982us/step - loss: 23.7061\n",
            "Epoch 4/10\n",
            "16/16 [==============================] - 0s 967us/step - loss: 23.4130\n",
            "Epoch 5/10\n",
            "16/16 [==============================] - 0s 974us/step - loss: 23.5901\n",
            "Epoch 6/10\n",
            "16/16 [==============================] - 0s 978us/step - loss: 23.5820\n",
            "Epoch 7/10\n",
            "16/16 [==============================] - 0s 972us/step - loss: 23.4926\n",
            "Epoch 8/10\n",
            "16/16 [==============================] - 0s 951us/step - loss: 23.8670\n",
            "Epoch 9/10\n",
            "16/16 [==============================] - 0s 885us/step - loss: 23.2300\n",
            "Epoch 10/10\n",
            "16/16 [==============================] - 0s 1ms/step - loss: 22.9501\n"
          ],
          "name": "stdout"
        },
        {
          "output_type": "execute_result",
          "data": {
            "text/plain": [
              "<tensorflow.python.keras.callbacks.History at 0x7f5f95a337b8>"
            ]
          },
          "metadata": {
            "tags": []
          },
          "execution_count": 19
        }
      ]
    },
    {
      "cell_type": "code",
      "metadata": {
        "colab": {
          "base_uri": "https://localhost:8080/"
        },
        "id": "0N6ljVTs1zpa",
        "outputId": "4cd241af-5ad3-4fd6-9788-dbb901f106d8"
      },
      "source": [
        "model.predict(독립[0:5])"
      ],
      "execution_count": 20,
      "outputs": [
        {
          "output_type": "execute_result",
          "data": {
            "text/plain": [
              "array([[30.48814 ],\n",
              "       [25.397528],\n",
              "       [31.685076],\n",
              "       [30.105377],\n",
              "       [29.70026 ]], dtype=float32)"
            ]
          },
          "metadata": {
            "tags": []
          },
          "execution_count": 20
        }
      ]
    },
    {
      "cell_type": "code",
      "metadata": {
        "colab": {
          "base_uri": "https://localhost:8080/",
          "height": 204
        },
        "id": "Jy0YU6vz17hB",
        "outputId": "4be78b48-f35f-4c1d-f233-90d410a0ebe9"
      },
      "source": [
        "종속[0:5]"
      ],
      "execution_count": 12,
      "outputs": [
        {
          "output_type": "execute_result",
          "data": {
            "text/html": [
              "<div>\n",
              "<style scoped>\n",
              "    .dataframe tbody tr th:only-of-type {\n",
              "        vertical-align: middle;\n",
              "    }\n",
              "\n",
              "    .dataframe tbody tr th {\n",
              "        vertical-align: top;\n",
              "    }\n",
              "\n",
              "    .dataframe thead th {\n",
              "        text-align: right;\n",
              "    }\n",
              "</style>\n",
              "<table border=\"1\" class=\"dataframe\">\n",
              "  <thead>\n",
              "    <tr style=\"text-align: right;\">\n",
              "      <th></th>\n",
              "      <th>medv</th>\n",
              "    </tr>\n",
              "  </thead>\n",
              "  <tbody>\n",
              "    <tr>\n",
              "      <th>0</th>\n",
              "      <td>24.0</td>\n",
              "    </tr>\n",
              "    <tr>\n",
              "      <th>1</th>\n",
              "      <td>21.6</td>\n",
              "    </tr>\n",
              "    <tr>\n",
              "      <th>2</th>\n",
              "      <td>34.7</td>\n",
              "    </tr>\n",
              "    <tr>\n",
              "      <th>3</th>\n",
              "      <td>33.4</td>\n",
              "    </tr>\n",
              "    <tr>\n",
              "      <th>4</th>\n",
              "      <td>36.2</td>\n",
              "    </tr>\n",
              "  </tbody>\n",
              "</table>\n",
              "</div>"
            ],
            "text/plain": [
              "   medv\n",
              "0  24.0\n",
              "1  21.6\n",
              "2  34.7\n",
              "3  33.4\n",
              "4  36.2"
            ]
          },
          "metadata": {
            "tags": []
          },
          "execution_count": 12
        }
      ]
    },
    {
      "cell_type": "code",
      "metadata": {
        "colab": {
          "base_uri": "https://localhost:8080/"
        },
        "id": "owNYiSO82NPD",
        "outputId": "7137955c-481f-4c67-8da2-12c21cabf0c2"
      },
      "source": [
        "model.get_weights()"
      ],
      "execution_count": 21,
      "outputs": [
        {
          "output_type": "execute_result",
          "data": {
            "text/plain": [
              "[array([[-0.09839526],\n",
              "        [ 0.04747263],\n",
              "        [-0.00910389],\n",
              "        [ 2.639126  ],\n",
              "        [-5.703149  ],\n",
              "        [ 5.006409  ],\n",
              "        [-0.00665573],\n",
              "        [-1.1513312 ],\n",
              "        [ 0.22134319],\n",
              "        [-0.00969016],\n",
              "        [-0.6018738 ],\n",
              "        [ 0.01321109],\n",
              "        [-0.46926492]], dtype=float32), array([13.898405], dtype=float32)]"
            ]
          },
          "metadata": {
            "tags": []
          },
          "execution_count": 21
        }
      ]
    },
    {
      "cell_type": "code",
      "metadata": {
        "id": "LYULHVZG3Gvh"
      },
      "source": [
        ""
      ],
      "execution_count": null,
      "outputs": []
    }
  ]
}