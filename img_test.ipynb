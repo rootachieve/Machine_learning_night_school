{
  "nbformat": 4,
  "nbformat_minor": 0,
  "metadata": {
    "colab": {
      "name": "Untitled1.ipynb",
      "provenance": [],
      "authorship_tag": "ABX9TyM+aAgYZIV08V2My0jsl8Ut"
    },
    "kernelspec": {
      "name": "python3",
      "display_name": "Python 3"
    }
  },
  "cells": [
    {
      "cell_type": "code",
      "metadata": {
        "id": "SfDOdFwNNmeU"
      },
      "source": [
        "import tensorflow as tf"
      ],
      "execution_count": 1,
      "outputs": []
    },
    {
      "cell_type": "code",
      "metadata": {
        "colab": {
          "base_uri": "https://localhost:8080/"
        },
        "id": "Fk-LjgarO5qS",
        "outputId": "02045537-f989-4b82-9e0a-5962abef5ae9"
      },
      "source": [
        "(mnist_x,mnist_y), _ = tf.keras.datasets.mnist.load_data()\r\n",
        "print(mnist_x.shape,mnist_y.shape)\r\n",
        "\r\n",
        "(cifar_x,cifar_y), _ = tf.keras.datasets.cifar10.load_data()\r\n",
        "print(cifar_x.shape,cifar_y.shape)"
      ],
      "execution_count": 5,
      "outputs": [
        {
          "output_type": "stream",
          "text": [
            "(60000, 28, 28) (60000,)\n",
            "(50000, 32, 32, 3) (50000, 1)\n"
          ],
          "name": "stdout"
        }
      ]
    },
    {
      "cell_type": "code",
      "metadata": {
        "colab": {
          "base_uri": "https://localhost:8080/",
          "height": 301
        },
        "id": "kogTVX4uPa-4",
        "outputId": "8fdf622f-873b-4733-c61c-20c80d94ae82"
      },
      "source": [
        "print(mnist_y[0:10])\r\n",
        "import matplotlib.pyplot as plt\r\n",
        "plt.imshow(mnist_x[9], cmap='gray')"
      ],
      "execution_count": 10,
      "outputs": [
        {
          "output_type": "stream",
          "text": [
            "[5 0 4 1 9 2 1 3 1 4]\n"
          ],
          "name": "stdout"
        },
        {
          "output_type": "execute_result",
          "data": {
            "text/plain": [
              "<matplotlib.image.AxesImage at 0x7f98f9723198>"
            ]
          },
          "metadata": {
            "tags": []
          },
          "execution_count": 10
        },
        {
          "output_type": "display_data",
          "data": {
            "image/png": "[encoded data removed]",
            "text/plain": [
              "<Figure size 432x288 with 1 Axes>"
            ]
          },
          "metadata": {
            "tags": [],
            "needs_background": "light"
          }
        }
      ]
    },
    {
      "cell_type": "code",
      "metadata": {
        "colab": {
          "base_uri": "https://localhost:8080/",
          "height": 464
        },
        "id": "rxCGshadP_Nh",
        "outputId": "1c42f225-bd37-462b-eb51-b2f95cb25a25"
      },
      "source": [
        "print(cifar_y[0:10])\r\n",
        "import matplotlib.pyplot as plt\r\n",
        "plt.imshow(cifar_x[0])"
      ],
      "execution_count": 13,
      "outputs": [
        {
          "output_type": "stream",
          "text": [
            "[[6]\n",
            " [9]\n",
            " [9]\n",
            " [4]\n",
            " [1]\n",
            " [1]\n",
            " [2]\n",
            " [7]\n",
            " [8]\n",
            " [3]]\n"
          ],
          "name": "stdout"
        },
        {
          "output_type": "execute_result",
          "data": {
            "text/plain": [
              "<matplotlib.image.AxesImage at 0x7f98f9646cf8>"
            ]
          },
          "metadata": {
            "tags": []
          },
          "execution_count": 13
        },
        {
          "output_type": "display_data",
          "data": {
            "image/png": "[encoded data removed]",
            "text/plain": [
              "<Figure size 432x288 with 1 Axes>"
            ]
          },
          "metadata": {
            "tags": [],
            "needs_background": "light"
          }
        }
      ]
    },
    {
      "cell_type": "code",
      "metadata": {
        "colab": {
          "base_uri": "https://localhost:8080/"
        },
        "id": "MhVJQT5zQWsW",
        "outputId": "f72e59c0-f9e7-4533-87a1-e7ec80562475"
      },
      "source": [
        "import numpy as np\r\n",
        "\r\n",
        "d1 =np.array([1,2,3,4,5])\r\n",
        "print(d1.shape)\r\n",
        "\r\n",
        "d2 =np.array([d1,d1,d1,d1])\r\n",
        "print(d2.shape)\r\n",
        "\r\n",
        "d3 =np.array([d2,d2,d2])\r\n",
        "print(d3.shape)"
      ],
      "execution_count": 15,
      "outputs": [
        {
          "output_type": "stream",
          "text": [
            "(5,)\n",
            "(4, 5)\n",
            "(3, 4, 5)\n"
          ],
          "name": "stdout"
        }
      ]
    },
    {
      "cell_type": "code",
      "metadata": {
        "id": "frY6ZtVLXaoN"
      },
      "source": [
        ""
      ],
      "execution_count": null,
      "outputs": []
    }
  ]
}